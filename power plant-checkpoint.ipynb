{
 "cells": [
  {
   "cell_type": "markdown",
   "id": "4e9aab48",
   "metadata": {},
   "source": [
    "# Global Power Plant Database"
   ]
  },
  {
   "cell_type": "markdown",
   "id": "527d8102",
   "metadata": {},
   "source": [
    "Problem Statement:"
   ]
  },
  {
   "cell_type": "markdown",
   "id": "026785de",
   "metadata": {},
   "source": [
    "The Global Power Plant Database is a comprehensive, open source database of power plants around the world. It centralizes power plant data to make it easier to navigate, compare and draw insights for one’s own analysis. The database covers approximately 35,000 power plants from 167 countries and includes thermal plants (e.g. coal, gas, oil, nuclear, biomass, waste, geothermal) and renewables (e.g. hydro, wind, solar). Each power plant is geolocated and entries contain information on plant capacity, generation, ownership, and fuel type. It will be continuously updated as data becomes available.\n",
    "\n",
    "OUTCOMES : we have to make two prediction - 1) Primary fuel   2) Capacity in Mega Watt\n",
    "\n",
    "Key attributes of the database\n",
    "The database includes the following indicators:\n",
    "\n",
    "`country` (text): 3 character country code corresponding to the ISO 3166-1 alpha-3 specification [5]\n",
    "\n",
    "`country_long` (text): longer form of the country designation\n",
    "\n",
    "`name` (text): name or title of the power plant, generally in Romanized form\n",
    "\n",
    "`gppd_idnr` (text): 10 or 12 character identifier for the power plant\n",
    "\n",
    "`capacity_mw` (number): electrical generating capacity in megawatts\n",
    "\n",
    "`latitude` (number): geolocation in decimal degrees; WGS84 (EPSG:4326)\n",
    "\n",
    "`longitude` (number): geolocation in decimal degrees; WGS84 (EPSG:4326)\n",
    "\n",
    "`primary_fuel` (text): energy source used in primary electricity generation or export\n",
    "\n",
    "`other_fuel1` (text): energy source used in electricity generation or export\n",
    "\n",
    "`other_fuel2` (text): energy source used in electricity generation or export\n",
    "\n",
    "\n",
    "`other_fuel3` (text): energy source used in electricity generation or export\n",
    "\n",
    "`commissioning_year` (number): year of plant operation, weighted by unit-capacity when data is available\n",
    "\n",
    "`owner` (text): majority shareholder of the power plant, generally in Romanized form\n",
    "\n",
    "`source` (text): entity reporting the data; could be an organization, report, or document, generally in Romanized form\n",
    "\n",
    "`url` (text): web document corresponding to the `source` field\n",
    "\n",
    "`geolocation_source` (text): attribution for geolocation information\n",
    "\n",
    "`wepp_id` (text): a reference to a unique plant identifier in the widely-used PLATTS-WEPP database.\n",
    "\n",
    "`year_of_capacity_data` (number): year the capacity information was reported\n",
    "\n",
    "`generation_gwh_2013` (number): electricity generation in gigawatt-hours reported for the year 2013\n",
    "\n",
    "`generation_gwh_2014` (number): electricity generation in gigawatt-hours reported for the year 2014\n",
    "\n",
    "`generation_gwh_2015` (number): electricity generation in gigawatt-hours reported for the year 2015\n",
    "\n",
    "`generation_gwh_2016` (number): electricity generation in gigawatt-hours reported for the year 2016\n",
    "\n",
    "`generation_gwh_2017` (number): electricity generation in gigawatt-hours reported for the year 2017\n",
    "\n",
    "`generation_gwh_2018` (number): electricity generation in gigawatt-hours reported for the year 2018\n",
    "\n",
    "`generation_gwh_2019` (number): electricity generation in gigawatt-hours reported for the year 2019\n",
    "\n",
    "`generation_data_source` (text): attribution for the reported generation information\n",
    "\n",
    "`estimated_generation_gwh_2013` (number): estimated electricity generation in gigawatt-hours for the year 2013\n",
    "\n",
    "`estimated_generation_gwh_2014` (number): estimated electricity generation in gigawatt-hours for the year 2014 \n",
    "\n",
    "`estimated_generation_gwh_2015` (number): estimated electricity generation in gigawatt-hours for the year 2015 \n",
    "\n",
    "`estimated_generation_gwh_2016` (number): estimated electricity generation in gigawatt-hours for the year 2016 \n",
    "\n",
    "`estimated_generation_gwh_2017` (number): estimated electricity generation in gigawatt-hours for the year 2017 \n",
    "\n",
    "'estimated_generation_note_2013` (text): label of the model/method used to estimate generation for the year 2013\n",
    "\n",
    "`estimated_generation_note_2014` (text): label of the model/method used to estimate generation for the year 2014 \n",
    "\n",
    "`estimated_generation_note_2015` (text): label of the model/method used to estimate generation for the year 2015\n",
    "\n",
    "`estimated_generation_note_2016` (text): label of the model/method used to estimate generation for the year 2016\n",
    "\n",
    "`estimated_generation_note_2017` (text): label of the model/method used to estimate generation for the year 2017 "
   ]
  },
  {
   "cell_type": "markdown",
   "id": "f0716f08",
   "metadata": {},
   "source": [
    "# Import necessary libraries"
   ]
  },
  {
   "cell_type": "code",
   "execution_count": null,
   "id": "824324f1",
   "metadata": {},
   "outputs": [],
   "source": [
    "import pandas as pd\n",
    "import numpy as np\n",
    "import matplotlib.pyplot as plt\n",
    "import seaborn as sns\n",
    "import warnings\n",
    "warnings.filterwarnings('ignore')"
   ]
  },
  {
   "cell_type": "markdown",
   "id": "e5392fad",
   "metadata": {},
   "source": [
    "# Loading dataset"
   ]
  },
  {
   "cell_type": "code",
   "execution_count": null,
   "id": "37bfeebd",
   "metadata": {},
   "outputs": [],
   "source": [
    "data = pd.read_csv('https://raw.githubusercontent.com/wri/global-power-plant-database/master/source_databases_csv/database_IND.csv')"
   ]
  },
  {
   "cell_type": "code",
   "execution_count": null,
   "id": "4f5aec1e",
   "metadata": {},
   "outputs": [],
   "source": [
    "data.head()"
   ]
  },
  {
   "cell_type": "markdown",
   "id": "cf25739e",
   "metadata": {},
   "source": [
    "# EDA"
   ]
  },
  {
   "cell_type": "code",
   "execution_count": null,
   "id": "983af8ed",
   "metadata": {},
   "outputs": [],
   "source": [
    "data.shape"
   ]
  },
  {
   "cell_type": "markdown",
   "id": "2f8b2c08",
   "metadata": {},
   "source": [
    "This dataset contain 907 rows and 27 columns including Label"
   ]
  },
  {
   "cell_type": "code",
   "execution_count": null,
   "id": "3c3f663f",
   "metadata": {},
   "outputs": [],
   "source": [
    "data.columns"
   ]
  },
  {
   "cell_type": "code",
   "execution_count": null,
   "id": "a16fc8d8",
   "metadata": {},
   "outputs": [],
   "source": [
    "data.dtypes"
   ]
  },
  {
   "cell_type": "markdown",
   "id": "198be8f2",
   "metadata": {},
   "source": [
    "This dataset contain:\n",
    "\n",
    "15 number float type data i.e numeric data\n",
    "\n",
    "12 number object type data i.e classification data"
   ]
  },
  {
   "cell_type": "code",
   "execution_count": null,
   "id": "51b5ca7b",
   "metadata": {},
   "outputs": [],
   "source": [
    "# to check overview information of dataset\n",
    "data.info()"
   ]
  },
  {
   "cell_type": "markdown",
   "id": "1db2eac1",
   "metadata": {},
   "source": [
    "Here we can observe that most of the column has missing values"
   ]
  },
  {
   "cell_type": "code",
   "execution_count": null,
   "id": "56adcd85",
   "metadata": {},
   "outputs": [],
   "source": [
    "#to check the missing values in column\n",
    "data.isnull().sum()"
   ]
  },
  {
   "cell_type": "markdown",
   "id": "14f5c680",
   "metadata": {},
   "source": [
    "as we can see most of column has missing values, we will impute it later"
   ]
  },
  {
   "cell_type": "code",
   "execution_count": null,
   "id": "3c2793cd",
   "metadata": {},
   "outputs": [],
   "source": [
    "data.nunique()"
   ]
  },
  {
   "cell_type": "markdown",
   "id": "4b1e46dc",
   "metadata": {},
   "source": [
    "Here we can see some of the column has only one 1 unique values which is irrelevent for prediction and some column has 0 unique values mean that column has only null values\n",
    "\n",
    "columns -[ country, country_long,  other fuel_2,  year_of_capacity_data,  generation_data_source ] has only 1 unique values so we can drop these columns as it is irrelevent for prediction\n",
    "\n",
    "columns - [others fuel_3, wepp_id,  generation_gwh_2013,  generation_gwh_2019 and estimated_generation_gwh] has 0 unique values mean these column has only NaN values and can be droped."
   ]
  },
  {
   "cell_type": "code",
   "execution_count": null,
   "id": "9cbcad4f",
   "metadata": {},
   "outputs": [],
   "source": [
    "#to check the uniqueness if 'country' column\n",
    "data['country'].value_counts()"
   ]
  },
  {
   "cell_type": "code",
   "execution_count": null,
   "id": "781586e7",
   "metadata": {},
   "outputs": [],
   "source": [
    "data.columns"
   ]
  },
  {
   "cell_type": "code",
   "execution_count": null,
   "id": "92f15f3e",
   "metadata": {},
   "outputs": [],
   "source": [
    "#dropping irrelevent column\n",
    "data.drop(columns=['country','country_long','other_fuel2','year_of_capacity_data','generation_data_source','other_fuel3','wepp_id','generation_gwh_2013','generation_gwh_2019'],axis=1,inplace=True)"
   ]
  },
  {
   "cell_type": "code",
   "execution_count": null,
   "id": "b604c038",
   "metadata": {},
   "outputs": [],
   "source": [
    "data.drop(columns=['estimated_generation_gwh','owner'],axis=1,inplace=True)"
   ]
  },
  {
   "cell_type": "code",
   "execution_count": null,
   "id": "0e67c3b5",
   "metadata": {},
   "outputs": [],
   "source": [
    "data.columns"
   ]
  },
  {
   "cell_type": "code",
   "execution_count": null,
   "id": "bcaec2e7",
   "metadata": {},
   "outputs": [],
   "source": [
    "#checking the count of name column\n",
    "data['name'].value_counts()"
   ]
  },
  {
   "cell_type": "markdown",
   "id": "165236ed",
   "metadata": {},
   "source": [
    "this column has unique names for each power plant, so this column can be dropped"
   ]
  },
  {
   "cell_type": "code",
   "execution_count": null,
   "id": "0c6c14fd",
   "metadata": {},
   "outputs": [],
   "source": [
    "data.drop(['name'],axis=1, inplace=True)"
   ]
  },
  {
   "cell_type": "code",
   "execution_count": null,
   "id": "14b3b8e1",
   "metadata": {},
   "outputs": [],
   "source": [
    "#checking the count of gppd_idnr column\n",
    "data['gppd_idnr'].value_counts()"
   ]
  },
  {
   "cell_type": "markdown",
   "id": "14dc9286",
   "metadata": {},
   "source": [
    "This column also contains unique ID of power plant, so this also can be dropped "
   ]
  },
  {
   "cell_type": "code",
   "execution_count": null,
   "id": "f8404f7b",
   "metadata": {},
   "outputs": [],
   "source": [
    "data.drop(['gppd_idnr'],axis=1,inplace=True)"
   ]
  },
  {
   "cell_type": "code",
   "execution_count": null,
   "id": "85e677b0",
   "metadata": {},
   "outputs": [],
   "source": [
    "# dropping url column as it is irrelevent for prediction\n",
    "data.drop(['url'],axis=1,inplace=True)"
   ]
  },
  {
   "cell_type": "code",
   "execution_count": null,
   "id": "2964f03c",
   "metadata": {},
   "outputs": [],
   "source": [
    "data.columns"
   ]
  },
  {
   "cell_type": "markdown",
   "id": "43a758c2",
   "metadata": {},
   "source": [
    "# Missing values"
   ]
  },
  {
   "cell_type": "code",
   "execution_count": null,
   "id": "173846b4",
   "metadata": {},
   "outputs": [],
   "source": [
    "data.isnull().sum()"
   ]
  },
  {
   "cell_type": "markdown",
   "id": "1d8b11ce",
   "metadata": {},
   "source": [
    "Before applying imputation technique, let us check the skewness in dataset"
   ]
  },
  {
   "cell_type": "code",
   "execution_count": null,
   "id": "9a7307dd",
   "metadata": {
    "scrolled": true
   },
   "outputs": [],
   "source": [
    "data.skew()"
   ]
  },
  {
   "cell_type": "markdown",
   "id": "6d953120",
   "metadata": {},
   "source": [
    "the columns  [longitude, commissioning_year , generation_gwh_2014, generation_gwh_2015, generation_gwh_2016, generation_gwh_2017,  generation_gwh_2018] has huge skewness and are of numeric type, so these  null values of these columns can be replaced by Median"
   ]
  },
  {
   "cell_type": "code",
   "execution_count": null,
   "id": "5852c5d8",
   "metadata": {},
   "outputs": [],
   "source": [
    "#filling missing values by median\n",
    "data['longitude'] = data['longitude'].fillna(data['longitude'].median())\n",
    "data['commissioning_year'] = data['commissioning_year'].fillna(data['commissioning_year'].median())\n",
    "data['generation_gwh_2014'] = data['generation_gwh_2014'].fillna(data['generation_gwh_2014'].median())\n",
    "data['generation_gwh_2015'] = data['generation_gwh_2015'].fillna(data['generation_gwh_2015'].median())\n",
    "data['generation_gwh_2016'] = data['generation_gwh_2016'].fillna(data['generation_gwh_2016'].median())\n",
    "data['generation_gwh_2017'] = data['generation_gwh_2017'].fillna(data['generation_gwh_2017'].median())\n",
    "data['generation_gwh_2018'] = data['generation_gwh_2018'].fillna(data['generation_gwh_2018'].median())"
   ]
  },
  {
   "cell_type": "markdown",
   "id": "0519dc28",
   "metadata": {},
   "source": [
    "The column 'Latitude' has very less skewness so missing values can be replaced by mean"
   ]
  },
  {
   "cell_type": "code",
   "execution_count": null,
   "id": "a812f6e3",
   "metadata": {},
   "outputs": [],
   "source": [
    "data['latitude'] = data['latitude'].fillna(data['latitude'].mean())"
   ]
  },
  {
   "cell_type": "markdown",
   "id": "09ddee41",
   "metadata": {},
   "source": [
    "the columns ['other_fuel_1', 'geolocation'] has categorical variable and can be replaced by mode "
   ]
  },
  {
   "cell_type": "code",
   "execution_count": null,
   "id": "b24b635a",
   "metadata": {},
   "outputs": [],
   "source": [
    "#let'us check the mode of other_fuel_1\n",
    "data['other_fuel1'].mode()"
   ]
  },
  {
   "cell_type": "code",
   "execution_count": null,
   "id": "d12d0e49",
   "metadata": {},
   "outputs": [],
   "source": [
    "#let'us check the mode of geolocation_source\n",
    "data['geolocation_source'].mode()"
   ]
  },
  {
   "cell_type": "code",
   "execution_count": null,
   "id": "1cc7b44b",
   "metadata": {},
   "outputs": [],
   "source": [
    "#Replacing missing values in other_fuel1 and geolocation_source\n",
    "data['other_fuel1'] = data['other_fuel1'].fillna(data['other_fuel1'].mode()[0])\n",
    "data['geolocation_source'] = data['geolocation_source'].fillna(data['geolocation_source'].mode()[0])"
   ]
  },
  {
   "cell_type": "code",
   "execution_count": null,
   "id": "2470b6f3",
   "metadata": {},
   "outputs": [],
   "source": [
    "data.isnull().sum()"
   ]
  },
  {
   "cell_type": "code",
   "execution_count": null,
   "id": "49975eaf",
   "metadata": {},
   "outputs": [],
   "source": [
    "#let's visualize the null values with heatmap\n",
    "sns.heatmap(data.isnull())"
   ]
  },
  {
   "cell_type": "markdown",
   "id": "1bde37e2",
   "metadata": {},
   "source": [
    "LET'S CHECK INFORMATION REGARDING TARGET COLUMN"
   ]
  },
  {
   "cell_type": "code",
   "execution_count": null,
   "id": "9278e1de",
   "metadata": {},
   "outputs": [],
   "source": [
    "data['capacity_mw'].value_counts()"
   ]
  },
  {
   "cell_type": "code",
   "execution_count": null,
   "id": "41ba7fb9",
   "metadata": {},
   "outputs": [],
   "source": [
    "data['primary_fuel'].value_counts()"
   ]
  },
  {
   "cell_type": "code",
   "execution_count": null,
   "id": "dff3f7a2",
   "metadata": {},
   "outputs": [],
   "source": [
    "#checking the list of values of commisioning_year\n",
    "data['commissioning_year'].value_counts()"
   ]
  },
  {
   "cell_type": "code",
   "execution_count": null,
   "id": "d56aa0ae",
   "metadata": {},
   "outputs": [],
   "source": [
    "#Age calculation of power plant by subtracting commissioning year from 2018\n",
    "data['power_plant_age'] = 2018-data['commissioning_year']\n",
    "data.drop(['commissioning_year'],axis=1,inplace = True)   "
   ]
  },
  {
   "cell_type": "code",
   "execution_count": null,
   "id": "36b39b9b",
   "metadata": {},
   "outputs": [],
   "source": [
    "data.head()"
   ]
  },
  {
   "cell_type": "markdown",
   "id": "7d661e33",
   "metadata": {},
   "source": [
    "# Description of dataset"
   ]
  },
  {
   "cell_type": "code",
   "execution_count": null,
   "id": "11d9439d",
   "metadata": {},
   "outputs": [],
   "source": [
    "data.describe()"
   ]
  },
  {
   "cell_type": "markdown",
   "id": "040aa146",
   "metadata": {},
   "source": [
    "This gives the statistical information of the dataset. The summary of this dataset looks perfect as there is no negative/invalid values present.\\ From the above description we can observe the following things.\n",
    "\n",
    "The counts of the columns are same which means there are no missing values present in the dataset.\n",
    "\n",
    "The mean is more than the median(50%) in all the columns except latitude which means they are skewed to right.\n",
    "\n",
    "The median is bit greater than the mean in the column latitude which means it is skewed to left.\n",
    "\n",
    "From the difference between the max and 75% percentile we can say that there are huge outliers present in most of the columns, will remove them before model building.\n",
    "\n",
    "The minimum count of the Power plant is zero and maximum is 4760 and there is huge difference in mean and std."
   ]
  },
  {
   "cell_type": "markdown",
   "id": "da180f7b",
   "metadata": {},
   "source": [
    "SEPARATING NUMERICAL AND CATEGORICAL COLUMNS"
   ]
  },
  {
   "cell_type": "code",
   "execution_count": null,
   "id": "18abfebb",
   "metadata": {},
   "outputs": [],
   "source": [
    "# Checking for Categorical columns\n",
    "categorical_col = []\n",
    "for i in data.dtypes.index:\n",
    "    if data.dtypes[i]=='object':\n",
    "        categorical_col.append(i)\n",
    "print(categorical_col)"
   ]
  },
  {
   "cell_type": "code",
   "execution_count": null,
   "id": "ae9dd9a6",
   "metadata": {},
   "outputs": [],
   "source": [
    "# Checking for numerical columns\n",
    "numerical_col = []\n",
    "for i in data.dtypes.index:\n",
    "    if data.dtypes[i]!='object':\n",
    "        numerical_col.append(i)\n",
    "print(numerical_col)"
   ]
  },
  {
   "cell_type": "markdown",
   "id": "87cdb227",
   "metadata": {},
   "source": [
    "# Data visualization"
   ]
  },
  {
   "cell_type": "code",
   "execution_count": null,
   "id": "38ecb22d",
   "metadata": {},
   "outputs": [],
   "source": [
    "# Visualizing the types of fuel in primary_fuel\n",
    "print(data[\"primary_fuel\"].value_counts())\n",
    "plt.figure(figsize=(10,10))\n",
    "sns.countplot(data['primary_fuel'])\n",
    "plt.show()"
   ]
  },
  {
   "cell_type": "markdown",
   "id": "ed7cafc1",
   "metadata": {},
   "source": [
    "here in using source as COAL generates more electricity compare to others, the data is not balanced so will balanced it later"
   ]
  },
  {
   "cell_type": "code",
   "execution_count": null,
   "id": "992df1ac",
   "metadata": {},
   "outputs": [],
   "source": [
    "# Visualizing the types of fuel in other_fuel1\n",
    "print(data[\"other_fuel1\"].value_counts())\n",
    "plt.figure(figsize=(10,10))\n",
    "sns.countplot(data['other_fuel1'])\n",
    "plt.show()"
   ]
  },
  {
   "cell_type": "markdown",
   "id": "5c881e6a",
   "metadata": {},
   "source": [
    "Here the count of oil is more than that of cogenerationand gas"
   ]
  },
  {
   "cell_type": "code",
   "execution_count": null,
   "id": "fa2311cc",
   "metadata": {},
   "outputs": [],
   "source": [
    "# Visualizing the counts of geolocation_source\n",
    "print(data[\"geolocation_source\"].value_counts())\n",
    "labels='WRI','Industry About','National Renewable Energy Laboratory'\n",
    "fig, ax = plt.subplots(figsize=(10,8))\n",
    "ax.pie(data['geolocation_source'].value_counts(), labels=labels, autopct='%1.2f%%', shadow=True)\n",
    "plt.show()"
   ]
  },
  {
   "cell_type": "markdown",
   "id": "0558d27b",
   "metadata": {},
   "source": [
    "Here we can see world resource institute(WRI) provides more information regarding geolocation source than other two sources"
   ]
  },
  {
   "cell_type": "code",
   "execution_count": null,
   "id": "5953e2f9",
   "metadata": {},
   "outputs": [],
   "source": [
    "#Lets check the relation between source and capacity_mw\n",
    "plt.figure(figsize = (10,6))\n",
    "sns.barplot(x = \"geolocation_source\", y = \"capacity_mw\", data = data)\n",
    "plt.show()"
   ]
  },
  {
   "cell_type": "markdown",
   "id": "c15e87f4",
   "metadata": {},
   "source": [
    "Capacity of WRI is about 350, which is higher than others by a difference of about 280"
   ]
  },
  {
   "cell_type": "code",
   "execution_count": null,
   "id": "2fdf3623",
   "metadata": {},
   "outputs": [],
   "source": [
    "# Let's check how the Power_plant_age affects the capacity of the power plant\n",
    "plt.figure(figsize=[10,6])\n",
    "plt.title('Comparision between Power_plant_age and capacity_mw')\n",
    "sns.regplot(data['power_plant_age'],data['capacity_mw'],color = \"g\")"
   ]
  },
  {
   "cell_type": "markdown",
   "id": "e388a556",
   "metadata": {},
   "source": [
    "from the above plot we can observe that there is a negative linear relation beteen feature and label, with increse in power plant age, capacity of that plant decreses"
   ]
  },
  {
   "cell_type": "code",
   "execution_count": null,
   "id": "a67aaf5f",
   "metadata": {},
   "outputs": [],
   "source": [
    "# Let's check how the Power_plant_age affects the capacity of the power plant\n",
    "plt.figure(figsize=[10,6])\n",
    "plt.title('Comparision between latitude and capacity_mw')\n",
    "sns.regplot(data['latitude'],data['capacity_mw'],color = \"g\")"
   ]
  },
  {
   "cell_type": "code",
   "execution_count": null,
   "id": "e3caa4ed",
   "metadata": {},
   "outputs": [],
   "source": [
    "# Let's check how the Power_plant_age affects the capacity of the power plant\n",
    "plt.figure(figsize=[10,6])\n",
    "plt.title('Comparision between longitude and capacity_mw')\n",
    "sns.regplot(data['longitude'],data['capacity_mw'],color = \"g\")"
   ]
  },
  {
   "cell_type": "code",
   "execution_count": null,
   "id": "ee13b369",
   "metadata": {},
   "outputs": [],
   "source": [
    "# Let's check how the Power_plant_age affects the capacity of the power plant\n",
    "plt.figure(figsize=[10,6])\n",
    "plt.title('Comparision between generation_gwh_2014 and capacity_mw')\n",
    "sns.regplot(data['generation_gwh_2014'],data['capacity_mw'],color = \"g\")"
   ]
  },
  {
   "cell_type": "code",
   "execution_count": null,
   "id": "d1246cc7",
   "metadata": {},
   "outputs": [],
   "source": [
    "# Let's check how the Power_plant_age affects the capacity of the power plant\n",
    "plt.figure(figsize=[10,6])\n",
    "plt.title('Comparision between generation_gwh_2015 and capacity_mw')\n",
    "sns.regplot(data['generation_gwh_2015'],data['capacity_mw'],color = \"g\")"
   ]
  },
  {
   "cell_type": "code",
   "execution_count": null,
   "id": "24213c68",
   "metadata": {},
   "outputs": [],
   "source": [
    "# Let's check how the Power_plant_age affects the capacity of the power plant\n",
    "plt.figure(figsize=[10,6])\n",
    "plt.title('Comparision between generation_gwh_2016 and capacity_mw')\n",
    "sns.regplot(data['generation_gwh_2016'],data['capacity_mw'],color = \"g\")"
   ]
  },
  {
   "cell_type": "code",
   "execution_count": null,
   "id": "e25f23c2",
   "metadata": {},
   "outputs": [],
   "source": [
    "# Let's check how the Power_plant_age affects the capacity of the power plant\n",
    "plt.figure(figsize=[10,6])\n",
    "plt.title('Comparision between generation_gwh_2017 and capacity_mw')\n",
    "sns.regplot(data['generation_gwh_2017'],data['capacity_mw'],color = \"g\")"
   ]
  },
  {
   "cell_type": "code",
   "execution_count": null,
   "id": "52ffae64",
   "metadata": {},
   "outputs": [],
   "source": [
    "# Let's check how the Power_plant_age affects the capacity of the power plant\n",
    "plt.figure(figsize=[10,6])\n",
    "plt.title('Comparision between generation_gwh_2018 and capacity_mw')\n",
    "sns.regplot(data['generation_gwh_2018'],data['capacity_mw'],color = \"g\")"
   ]
  },
  {
   "cell_type": "code",
   "execution_count": null,
   "id": "ebd2b6b2",
   "metadata": {},
   "outputs": [],
   "source": [
    "# Let's check how the Power_plant_age affects the primary_fuel of the power plant\n",
    "plt.figure(figsize=[10,6])\n",
    "plt.title('Comparision between Power_plant_age and primary_fuel')\n",
    "sns.barplot(y='power_plant_age',x='primary_fuel',data=data)\n",
    "plt.show()"
   ]
  },
  {
   "cell_type": "markdown",
   "id": "0e343df2",
   "metadata": {},
   "source": [
    "From the above plot it can be observed that most of old power plants uses hydro(water) to generate the electricity followed by Nuclear and oil\n",
    "\n",
    "Recently constructed power plant uses  solar,  coal,  wind,  and  gas to generate electricity"
   ]
  },
  {
   "cell_type": "code",
   "execution_count": null,
   "id": "1762a7c0",
   "metadata": {},
   "outputs": [],
   "source": [
    "# Let's check how the Power_plant_age affects the primary_fuel of the power plant\n",
    "plt.figure(figsize=[10,6])\n",
    "plt.title('Comparision between latitude and primary_fuel')\n",
    "sns.barplot(y='latitude',x='primary_fuel',data=data)\n",
    "plt.show()"
   ]
  },
  {
   "cell_type": "code",
   "execution_count": null,
   "id": "836c1959",
   "metadata": {},
   "outputs": [],
   "source": [
    "# Let's check how the longitude affects the primary_fuel of the power plant\n",
    "plt.figure(figsize=[10,6])\n",
    "plt.title('Comparision between longitude and primary_fuel')\n",
    "sns.barplot(y='longitude',x='primary_fuel',data=data)\n",
    "plt.show()"
   ]
  },
  {
   "cell_type": "code",
   "execution_count": null,
   "id": "f2fd6a01",
   "metadata": {},
   "outputs": [],
   "source": [
    "# Let's check how the generation_gwh_2014 affects the primary_fuel of the power plant\n",
    "plt.figure(figsize=[10,6])\n",
    "plt.title('Comparision between generation_gwh_2014 and primary_fuel')\n",
    "sns.barplot(y='generation_gwh_2014',x='primary_fuel',data=data)\n",
    "plt.show()"
   ]
  },
  {
   "cell_type": "code",
   "execution_count": null,
   "id": "18c50774",
   "metadata": {},
   "outputs": [],
   "source": [
    "# Let's check how the generation_gwh_2015 affects the primary_fuel of the power plant\n",
    "plt.figure(figsize=[10,6])\n",
    "plt.title('Comparision between generation_gwh_2015 and primary_fuel')\n",
    "sns.barplot(y='generation_gwh_2015',x='primary_fuel',data=data)\n",
    "plt.show()"
   ]
  },
  {
   "cell_type": "code",
   "execution_count": null,
   "id": "57b40857",
   "metadata": {},
   "outputs": [],
   "source": [
    "# Let's check how the generation_gwh_2016 affects the primary_fuel of the power plant\n",
    "plt.figure(figsize=[10,6])\n",
    "plt.title('Comparision between generation_gwh_2016 and primary_fuel')\n",
    "sns.barplot(y='generation_gwh_2016',x='primary_fuel',data=data)\n",
    "plt.show()"
   ]
  },
  {
   "cell_type": "code",
   "execution_count": null,
   "id": "87961c89",
   "metadata": {},
   "outputs": [],
   "source": [
    "# Let's check how the generation_gwh_2017 affects the primary_fuel of the power plant\n",
    "plt.figure(figsize=[10,6])\n",
    "plt.title('Comparision between generation_gwh_2017 and primary_fuel')\n",
    "sns.barplot(y='generation_gwh_2017',x='primary_fuel',data=data)\n",
    "plt.show()"
   ]
  },
  {
   "cell_type": "code",
   "execution_count": null,
   "id": "d24c5145",
   "metadata": {},
   "outputs": [],
   "source": [
    "# Let's check how the generation_gwh_2018 affects the primary_fuel of the power plant\n",
    "plt.figure(figsize=[10,6])\n",
    "plt.title('Comparision between generation_gwh_2018 and primary_fuel')\n",
    "sns.barplot(y='generation_gwh_2018',x='primary_fuel',data=data)\n",
    "plt.show()"
   ]
  },
  {
   "cell_type": "markdown",
   "id": "25037ff8",
   "metadata": {},
   "source": [
    "#### Let's check the relation between targets "
   ]
  },
  {
   "cell_type": "code",
   "execution_count": null,
   "id": "be20de9d",
   "metadata": {},
   "outputs": [],
   "source": [
    "#Lets check the relation between primary_fuel and capacity_mw\n",
    "plt.figure(figsize = (10,6))\n",
    "plt.title(\"Comparision between primary_fuel and capacity_mw\")\n",
    "sns.barplot(x = \"primary_fuel\", y = \"capacity_mw\", data = data)\n",
    "plt.show()"
   ]
  },
  {
   "cell_type": "markdown",
   "id": "68fd5390",
   "metadata": {},
   "source": [
    "here it can be observed that nuclear fuel gives higher capacity followed by Coal,  Gas."
   ]
  },
  {
   "cell_type": "code",
   "execution_count": null,
   "id": "9ec0aa06",
   "metadata": {},
   "outputs": [],
   "source": [
    "# checking the relation between feature to feature and feature to label\n",
    "sns.pairplot(data=data)"
   ]
  },
  {
   "cell_type": "markdown",
   "id": "72a34eeb",
   "metadata": {},
   "source": [
    "---This pairplot gives pairwise relation between the columns which is plotted on regarding target variables"
   ]
  },
  {
   "cell_type": "code",
   "execution_count": null,
   "id": "71ec9e85",
   "metadata": {},
   "outputs": [],
   "source": [
    "#data distribution in every column\n",
    "plt.figure(figsize=(25,35),facecolor= 'blue')\n",
    "plotnumber = 1\n",
    "\n",
    "\n",
    "for column in numerical_col:\n",
    "    if plotnumber<=9:\n",
    "        plt.subplot(3,3,plotnumber)\n",
    "        ax=sns.distplot(data[column])\n",
    "        plt.xlabel(column,fontsize=20)\n",
    "        \n",
    "    plotnumber+=1\n",
    "plt.show()\n"
   ]
  },
  {
   "cell_type": "markdown",
   "id": "5600983d",
   "metadata": {},
   "source": [
    "from the above distribution plot we can observe that data is not normaly distributed except longitude and latitude columns"
   ]
  },
  {
   "cell_type": "markdown",
   "id": "eec7cc5f",
   "metadata": {},
   "source": [
    "### Check for outliers "
   ]
  },
  {
   "cell_type": "code",
   "execution_count": null,
   "id": "f6869195",
   "metadata": {},
   "outputs": [],
   "source": [
    "#data distribution in every column\n",
    "plt.figure(figsize=(25,35),facecolor= 'blue')\n",
    "plotnumber = 1\n",
    "\n",
    "\n",
    "for column in numerical_col:\n",
    "    if plotnumber<=9:\n",
    "        plt.subplot(3,3,plotnumber)\n",
    "        ax=sns.boxplot(data[column],orient='v')\n",
    "        plt.xlabel(column,fontsize=20)\n",
    "        \n",
    "    plotnumber+=1\n",
    "plt.show()"
   ]
  },
  {
   "cell_type": "markdown",
   "id": "d7e59316",
   "metadata": {},
   "source": [
    "Here it can be observed that all the columns has outliers except Latitude"
   ]
  },
  {
   "cell_type": "markdown",
   "id": "6e6ee25a",
   "metadata": {},
   "source": [
    "## Removing Outliers "
   ]
  },
  {
   "cell_type": "markdown",
   "id": "8831d040",
   "metadata": {},
   "source": [
    "#### BY USING ZSCORE METHOD "
   ]
  },
  {
   "cell_type": "code",
   "execution_count": null,
   "id": "6b84a4b1",
   "metadata": {},
   "outputs": [],
   "source": [
    "# Features having outliers\n",
    "features = data[['longitude','generation_gwh_2014','generation_gwh_2015','generation_gwh_2016','generation_gwh_2017','generation_gwh_2018','power_plant_age']]"
   ]
  },
  {
   "cell_type": "code",
   "execution_count": null,
   "id": "29ae296e",
   "metadata": {},
   "outputs": [],
   "source": [
    "# Using zscore to remove outliers\n",
    "from scipy.stats import zscore\n",
    "z=np.abs(zscore(features))\n",
    "z"
   ]
  },
  {
   "cell_type": "code",
   "execution_count": null,
   "id": "f39ef9be",
   "metadata": {},
   "outputs": [],
   "source": [
    "#Creating new dataframe\n",
    "data_new = data[(z<3).all(axis=1)]\n",
    "data_new"
   ]
  },
  {
   "cell_type": "markdown",
   "id": "6eef4d57",
   "metadata": {},
   "source": [
    "New dataframe after removing outliers"
   ]
  },
  {
   "cell_type": "code",
   "execution_count": null,
   "id": "2983cbc6",
   "metadata": {},
   "outputs": [],
   "source": [
    "print(data.shape)\n",
    "print(data_new.shape)"
   ]
  },
  {
   "cell_type": "markdown",
   "id": "e57864fa",
   "metadata": {},
   "source": [
    "Here we can see 56 numbers of rows has been reduced"
   ]
  },
  {
   "cell_type": "markdown",
   "id": "59351d54",
   "metadata": {},
   "source": [
    "##### Checking data loss"
   ]
  },
  {
   "cell_type": "code",
   "execution_count": null,
   "id": "89d17c4b",
   "metadata": {},
   "outputs": [],
   "source": [
    "data_loss = (907-851)/907*100\n",
    "data_loss"
   ]
  },
  {
   "cell_type": "markdown",
   "id": "2f0814b5",
   "metadata": {},
   "source": [
    "### Encoding the categorical column "
   ]
  },
  {
   "cell_type": "code",
   "execution_count": null,
   "id": "b8c5c7ee",
   "metadata": {},
   "outputs": [],
   "source": [
    "categorical_col = ['primary_fuel','other_fuel1','source','geolocation_source']"
   ]
  },
  {
   "cell_type": "code",
   "execution_count": null,
   "id": "bfb92d67",
   "metadata": {},
   "outputs": [],
   "source": [
    "from sklearn.preprocessing import LabelEncoder\n",
    "lbl = LabelEncoder()\n",
    "data_new[categorical_col] = data_new[categorical_col].apply(lbl.fit_transform)"
   ]
  },
  {
   "cell_type": "code",
   "execution_count": null,
   "id": "4b9fc821",
   "metadata": {},
   "outputs": [],
   "source": [
    "data_new[categorical_col]"
   ]
  },
  {
   "cell_type": "markdown",
   "id": "d15aa013",
   "metadata": {},
   "source": [
    "This is the dataset after encoding"
   ]
  },
  {
   "cell_type": "markdown",
   "id": "9237d532",
   "metadata": {},
   "source": [
    "## corelation "
   ]
  },
  {
   "cell_type": "code",
   "execution_count": null,
   "id": "8317cb46",
   "metadata": {},
   "outputs": [],
   "source": [
    "cor = data_new.corr()\n",
    "cor"
   ]
  },
  {
   "cell_type": "markdown",
   "id": "8cac0005",
   "metadata": {},
   "source": [
    "### corelation matrix using Heatmap"
   ]
  },
  {
   "cell_type": "code",
   "execution_count": null,
   "id": "a75c3438",
   "metadata": {},
   "outputs": [],
   "source": [
    "# Visualizing the correlation matrix by plotting heatmap\n",
    "plt.figure(figsize=(30,25))\n",
    "sns.heatmap(data_new.corr(),linewidths=0.1,annot=True,linecolor='black',fmt='.2g',annot_kws={'size':15},cmap=\"YlGnBu\")\n",
    "plt.show()"
   ]
  },
  {
   "cell_type": "markdown",
   "id": "00d7e9b6",
   "metadata": {},
   "source": [
    "This heatmap shows the correlation matrix. We can visualize the relation between the feature to feature and feature to label.This heatmap contains both positive and negative correlation.\n",
    "\n",
    "CORELATION BETWEEN CAPACITY MW AND FEATURES\n",
    "\n",
    "---- The label capacity_mw is highly positively correlated with the features \n",
    "     generation_gwh_2017,generation_gwh_2016,generation_gwh_2015,generation_gwh_2014,generation_gwh_2013.\n",
    "\n",
    "-----And the label is negatively correlated with the features primary_fuel, source and Powe_plant_age.\n",
    "\n",
    "-----The columns other_fuel1 and latitude have no relation with the label, so we can drop them.\n",
    "\n",
    "\n",
    "CORELATION BETWEEN PRIMARY_FUEL AND FEATURES\n",
    "\n",
    "------The label primary_fuel is less correlated with Power_plant_age and source.\n",
    "\n",
    "------The label is negatively correlated with geological_source, longitude,capacity_mw, and all generation_gwh years.\n",
    "      Also the features other_fuel1 and latitude have very less correlation with both the lables. We can drop these columns."
   ]
  },
  {
   "cell_type": "markdown",
   "id": "2e4a98b6",
   "metadata": {},
   "source": [
    "### Visualization of corelation of label and feature"
   ]
  },
  {
   "cell_type": "code",
   "execution_count": null,
   "id": "60bbf6db",
   "metadata": {},
   "outputs": [],
   "source": [
    "plt.figure(figsize=(25,20))\n",
    "data_new.corr()['capacity_mw'].sort_values(ascending=False).drop(['capacity_mw']).plot(kind='bar',color='c')\n",
    "plt.xlabel('Features',fontsize=10)\n",
    "plt.ylabel('target',fontsize=10)\n",
    "plt.title('Correlation between label and features using bar plot',fontsize=20)\n",
    "plt.show()"
   ]
  },
  {
   "cell_type": "markdown",
   "id": "ef21c979",
   "metadata": {},
   "source": [
    "### visualization of corelation of primary_fuel vs feature "
   ]
  },
  {
   "cell_type": "code",
   "execution_count": null,
   "id": "f982f1ea",
   "metadata": {},
   "outputs": [],
   "source": [
    "plt.figure(figsize=(25,20))\n",
    "data_new.corr()['primary_fuel'].sort_values(ascending=False).drop(['primary_fuel']).plot(kind='bar',color='c')\n",
    "plt.xlabel('Features',fontsize=10)\n",
    "plt.ylabel('target',fontsize=10)\n",
    "plt.title('Correlation between label and features using bar plot',fontsize=20)\n",
    "plt.show()"
   ]
  },
  {
   "cell_type": "code",
   "execution_count": null,
   "id": "b1fbfad5",
   "metadata": {},
   "outputs": [],
   "source": [
    "# Dropping irrelavant columns\n",
    "data_new.drop(\"other_fuel1\",axis=1,inplace=True)\n",
    "data_new.drop(\"latitude\",axis=1,inplace=True)"
   ]
  },
  {
   "cell_type": "code",
   "execution_count": null,
   "id": "9fea4c17",
   "metadata": {},
   "outputs": [],
   "source": [
    "data_new"
   ]
  },
  {
   "cell_type": "markdown",
   "id": "f4a0a4cb",
   "metadata": {},
   "source": [
    "## Task - 1, Prediction for capacity_MW "
   ]
  },
  {
   "cell_type": "code",
   "execution_count": null,
   "id": "8127c66a",
   "metadata": {},
   "outputs": [],
   "source": [
    "x = data_new.drop(\"capacity_mw\",axis=1)\n",
    "y = data_new[\"capacity_mw\"]"
   ]
  },
  {
   "cell_type": "code",
   "execution_count": null,
   "id": "e4f4bca6",
   "metadata": {},
   "outputs": [],
   "source": [
    "x.shape"
   ]
  },
  {
   "cell_type": "code",
   "execution_count": null,
   "id": "f5149486",
   "metadata": {},
   "outputs": [],
   "source": [
    "y.shape"
   ]
  },
  {
   "cell_type": "code",
   "execution_count": null,
   "id": "9320fb4c",
   "metadata": {},
   "outputs": [],
   "source": [
    "#checking for skewness\n",
    "x.skew()"
   ]
  },
  {
   "cell_type": "markdown",
   "id": "ed1defaa",
   "metadata": {},
   "source": [
    "## Removing skewness using yeo-johnson method "
   ]
  },
  {
   "cell_type": "code",
   "execution_count": null,
   "id": "30b32976",
   "metadata": {},
   "outputs": [],
   "source": [
    "skew = ['longitude','generation_gwh_2014','generation_gwh_2015','generation_gwh_2016','generation_gwh_2017','generation_gwh_2018','power_plant_age']\n",
    "from sklearn.preprocessing import PowerTransformer\n",
    "scaler = PowerTransformer(method = 'yeo-johnson')\n",
    "'''\n",
    "parameters:\n",
    "method = 'box-cox' or 'yeo-johnson'\n",
    "'''"
   ]
  },
  {
   "cell_type": "code",
   "execution_count": null,
   "id": "409f6bc3",
   "metadata": {},
   "outputs": [],
   "source": [
    "x[skew] = scaler.fit_transform(x[skew].values)\n",
    "x[skew].head()"
   ]
  },
  {
   "cell_type": "code",
   "execution_count": null,
   "id": "d1bc1a78",
   "metadata": {},
   "outputs": [],
   "source": [
    "# checking skewness after using yeo-johnson method\n",
    "x.skew()"
   ]
  },
  {
   "cell_type": "markdown",
   "id": "f696d144",
   "metadata": {},
   "source": [
    "now the skewness has removed"
   ]
  },
  {
   "cell_type": "code",
   "execution_count": null,
   "id": "9f590340",
   "metadata": {},
   "outputs": [],
   "source": [
    "# Checking distribution after removing skewness\n",
    "plt.figure(figsize=(20,25))\n",
    "plotnumber=1\n",
    "for col in x[skew]:\n",
    "    if plotnumber<=9:\n",
    "        ax = plt.subplot(3,3,plotnumber)\n",
    "        sns.distplot(x[col],color='g',kde_kws={\"shade\":True},hist=False)\n",
    "        plt.xlabel(col,fontsize=20)\n",
    "    plotnumber+=1\n",
    "plt.show()"
   ]
  },
  {
   "cell_type": "markdown",
   "id": "e603fd3f",
   "metadata": {},
   "source": [
    "still data is not in normal form but skewness has been removed"
   ]
  },
  {
   "cell_type": "markdown",
   "id": "c960c7dc",
   "metadata": {},
   "source": [
    "## Feature scaling using standard scalarization "
   ]
  },
  {
   "cell_type": "code",
   "execution_count": null,
   "id": "91ffa577",
   "metadata": {},
   "outputs": [],
   "source": [
    "from sklearn.preprocessing import StandardScaler\n",
    "scaler = StandardScaler()\n",
    "x = pd.DataFrame(scaler.fit_transform(x), columns=x.columns)\n",
    "x"
   ]
  },
  {
   "cell_type": "markdown",
   "id": "a601244a",
   "metadata": {},
   "source": [
    "Data is not at all baised now, it has been scaled using standard scalarization"
   ]
  },
  {
   "cell_type": "markdown",
   "id": "53cbf15c",
   "metadata": {},
   "source": [
    "## Check for multicolinearity "
   ]
  },
  {
   "cell_type": "code",
   "execution_count": null,
   "id": "f62f79df",
   "metadata": {},
   "outputs": [],
   "source": [
    "from statsmodels.stats.outliers_influence import variance_inflation_factor\n",
    "vif = pd.DataFrame()\n",
    "vif[\"VIF values\"] = [variance_inflation_factor(x.values,i)\n",
    "              for i in range(len(x.columns))]\n",
    "vif[\"Features\"] = x.columns\n",
    "vif"
   ]
  },
  {
   "cell_type": "markdown",
   "id": "c3df55c0",
   "metadata": {},
   "source": [
    "Here all the columns has VIF values less than 10, means these coluns are free from multicolinearity"
   ]
  },
  {
   "cell_type": "markdown",
   "id": "cc16888e",
   "metadata": {},
   "source": [
    "## Modeling"
   ]
  },
  {
   "cell_type": "code",
   "execution_count": null,
   "id": "4cece342",
   "metadata": {},
   "outputs": [],
   "source": [
    "from sklearn.model_selection import train_test_split\n",
    "from sklearn.metrics import mean_absolute_error\n",
    "from sklearn.metrics import mean_squared_error\n",
    "from sklearn.metrics import r2_score"
   ]
  },
  {
   "cell_type": "markdown",
   "id": "dfde2b1c",
   "metadata": {},
   "source": [
    "###  Finding the best Random state"
   ]
  },
  {
   "cell_type": "code",
   "execution_count": null,
   "id": "0cf10151",
   "metadata": {},
   "outputs": [],
   "source": [
    "from sklearn.ensemble import RandomForestRegressor\n",
    "maxAccu=0\n",
    "maxRS=0\n",
    "for i in range(1,200):\n",
    "    x_train,x_test,y_train,y_test = train_test_split(x,y,test_size=0.30,random_state=i)\n",
    "    mod = RandomForestRegressor()\n",
    "    mod.fit(x_train,y_train)\n",
    "    pred = mod.predict(x_test)\n",
    "    acc = r2_score(y_test,pred)\n",
    "    if acc>maxAccu:\n",
    "        maxAccu=acc\n",
    "        maxRS=i\n",
    "print(\"Maximum r2 score is \",maxAccu,\"at Random_state\",maxRS)"
   ]
  },
  {
   "cell_type": "markdown",
   "id": "cf140176",
   "metadata": {},
   "source": [
    "### Creating train test split "
   ]
  },
  {
   "cell_type": "code",
   "execution_count": null,
   "id": "d77f8e59",
   "metadata": {},
   "outputs": [],
   "source": [
    "x_train,x_test,y_train,y_test = train_test_split(x,y,test_size=.30,random_state=185)"
   ]
  },
  {
   "cell_type": "code",
   "execution_count": null,
   "id": "9ace7201",
   "metadata": {},
   "outputs": [],
   "source": [
    "from sklearn.tree import DecisionTreeRegressor\n",
    "from sklearn.ensemble import RandomForestRegressor\n",
    "from sklearn.neighbors import KNeighborsRegressor as KNN\n",
    "from sklearn.ensemble import GradientBoostingRegressor\n",
    "from sklearn.ensemble import AdaBoostRegressor\n",
    "from sklearn.ensemble import BaggingRegressor\n",
    "from sklearn.model_selection import cross_val_score\n",
    "from sklearn.metrics import classification_report\n",
    "from sklearn import metrics"
   ]
  },
  {
   "cell_type": "markdown",
   "id": "0f8ed151",
   "metadata": {},
   "source": [
    "## Random forest classifier"
   ]
  },
  {
   "cell_type": "code",
   "execution_count": null,
   "id": "41eb7a6e",
   "metadata": {},
   "outputs": [],
   "source": [
    "# Checking R2 score for RandomForestRegressor\n",
    "RFR = RandomForestRegressor()\n",
    "RFR.fit(x_train,y_train)\n",
    "predRFR = RFR.predict(x_test)\n",
    "print(\"R2_Score:\",r2_score(y_test,predRFR))\n",
    "print(\"MAE:\",metrics.mean_absolute_error(y_test,predRFR))\n",
    "print(\"MSE:\",metrics.mean_squared_error(y_test,predRFR))\n",
    "print(\"RMSE:\",np.sqrt(metrics.mean_squared_error(y_test, predRFR)))"
   ]
  },
  {
   "cell_type": "markdown",
   "id": "ea373926",
   "metadata": {},
   "source": [
    "## Decision tree classifier "
   ]
  },
  {
   "cell_type": "code",
   "execution_count": null,
   "id": "370a9594",
   "metadata": {},
   "outputs": [],
   "source": [
    "# Checking R2 score for DecisionTreeRegressor\n",
    "DTR = DecisionTreeRegressor()\n",
    "DTR.fit(x_train,y_train)\n",
    "predDTR = DTR.predict(x_test)\n",
    "print(\"R2_Score:\",r2_score(y_test,predDTR))\n",
    "print(\"MAE:\",metrics.mean_absolute_error(y_test,predDTR))\n",
    "print(\"MSE:\",metrics.mean_squared_error(y_test,predDTR))\n",
    "print(\"RMSE:\",np.sqrt(metrics.mean_squared_error(y_test, predDTR)))"
   ]
  },
  {
   "cell_type": "markdown",
   "id": "2b0cef12",
   "metadata": {},
   "source": [
    "## Kneighbors Regressor "
   ]
  },
  {
   "cell_type": "code",
   "execution_count": null,
   "id": "b3d1d29e",
   "metadata": {},
   "outputs": [],
   "source": [
    "# Checking R2 score for KNN Regressor\n",
    "knn = KNN()\n",
    "knn.fit(x_train,y_train)\n",
    "predknn = knn.predict(x_test)\n",
    "print(\"R2_Score:\",r2_score(y_test,predknn))\n",
    "print(\"MAE:\",metrics.mean_absolute_error(y_test,predknn))\n",
    "print(\"MSE:\",metrics.mean_squared_error(y_test,predknn))\n",
    "print(\"RMSE:\",np.sqrt(metrics.mean_squared_error(y_test,predknn)))"
   ]
  },
  {
   "cell_type": "markdown",
   "id": "be4475ad",
   "metadata": {},
   "source": [
    "## Gradient boosting Regressor "
   ]
  },
  {
   "cell_type": "code",
   "execution_count": null,
   "id": "7b137980",
   "metadata": {},
   "outputs": [],
   "source": [
    "# Checking R2 score for KNN Regressor\n",
    "GB = GradientBoostingRegressor()\n",
    "GB.fit(x_train,y_train)\n",
    "predGB = GB.predict(x_test)\n",
    "print(\"R2_Score:\",r2_score(y_test,predGB))\n",
    "print(\"MAE:\",metrics.mean_absolute_error(y_test,predGB))\n",
    "print(\"MSE:\",metrics.mean_squared_error(y_test,predGB))\n",
    "print(\"RMSE:\",np.sqrt(metrics.mean_squared_error(y_test,predGB)))"
   ]
  },
  {
   "cell_type": "markdown",
   "id": "80d6931c",
   "metadata": {},
   "source": [
    "## Bagging Regressor "
   ]
  },
  {
   "cell_type": "code",
   "execution_count": null,
   "id": "9e11495c",
   "metadata": {},
   "outputs": [],
   "source": [
    "# Checking R2 score for BaggingRegressor\n",
    "BR = BaggingRegressor()\n",
    "BR.fit(x_train,y_train)\n",
    "predBR = BR.predict(x_test)\n",
    "print(\"R2_Score:\",r2_score(y_test,predBR))\n",
    "print(\"MAE:\",metrics.mean_absolute_error(y_test,predBR))\n",
    "print(\"MSE:\",metrics.mean_squared_error(y_test,predBR))\n",
    "print(\"RMSE:\",np.sqrt(metrics.mean_squared_error(y_test,predBR)))"
   ]
  },
  {
   "cell_type": "markdown",
   "id": "8abea444",
   "metadata": {},
   "source": [
    "## Check for cross validation score "
   ]
  },
  {
   "cell_type": "code",
   "execution_count": null,
   "id": "a88511c7",
   "metadata": {},
   "outputs": [],
   "source": [
    "from sklearn.model_selection import cross_val_score"
   ]
  },
  {
   "cell_type": "code",
   "execution_count": null,
   "id": "010715db",
   "metadata": {},
   "outputs": [],
   "source": [
    "# Checking cv score for RandomForestRegressor\n",
    "print(cross_val_score(RFR,x,y,cv=5).mean())"
   ]
  },
  {
   "cell_type": "code",
   "execution_count": null,
   "id": "1747cf4d",
   "metadata": {},
   "outputs": [],
   "source": [
    "# Checking cv score for DecisionTreeRegressor\n",
    "print(cross_val_score(DTR,x,y,cv=5).mean())"
   ]
  },
  {
   "cell_type": "code",
   "execution_count": null,
   "id": "a08e79c3",
   "metadata": {},
   "outputs": [],
   "source": [
    "# Checking cv score for KNN Regressor\n",
    "print(cross_val_score(knn,x,y,cv=5).mean())"
   ]
  },
  {
   "cell_type": "code",
   "execution_count": null,
   "id": "c50abf2f",
   "metadata": {},
   "outputs": [],
   "source": [
    "# Checking cv score for Gradient Boosting Regressor\n",
    "print(cross_val_score(GB,x,y,cv=5).mean())"
   ]
  },
  {
   "cell_type": "code",
   "execution_count": null,
   "id": "65c7da4b",
   "metadata": {},
   "outputs": [],
   "source": [
    "# Checking cv score for Bagging Regressor\n",
    "print(cross_val_score(BR,x,y,cv=5).mean())"
   ]
  },
  {
   "cell_type": "markdown",
   "id": "ff0a9f21",
   "metadata": {},
   "source": [
    "From the above observation, the difference between R2 score and the cross validation score, Random forest classifier fits best for this dataset. Let's increse the accuracy by hyper parametre tuning"
   ]
  },
  {
   "cell_type": "markdown",
   "id": "5f865ae0",
   "metadata": {},
   "source": [
    "## Hyper parametre tunning "
   ]
  },
  {
   "cell_type": "code",
   "execution_count": null,
   "id": "4ed609b9",
   "metadata": {},
   "outputs": [],
   "source": [
    "from sklearn.model_selection import GridSearchCV"
   ]
  },
  {
   "cell_type": "code",
   "execution_count": null,
   "id": "19852722",
   "metadata": {},
   "outputs": [],
   "source": [
    "# RandomForestRegressor\n",
    "parameters = {'criterion':['mse', 'mae'],\n",
    "             'max_features':['auto', 'sqrt', 'log2'],\n",
    "             'n_estimators':[0,200],\n",
    "             'max_depth':[2,3,4,6]}"
   ]
  },
  {
   "cell_type": "code",
   "execution_count": null,
   "id": "c7c393b4",
   "metadata": {},
   "outputs": [],
   "source": [
    "GCV=GridSearchCV(RandomForestRegressor(),parameters,cv=5)"
   ]
  },
  {
   "cell_type": "code",
   "execution_count": null,
   "id": "e2843d53",
   "metadata": {},
   "outputs": [],
   "source": [
    "GCV.fit(x_train,y_train)"
   ]
  },
  {
   "cell_type": "code",
   "execution_count": null,
   "id": "3a82b755",
   "metadata": {},
   "outputs": [],
   "source": [
    "GCV.best_params_"
   ]
  },
  {
   "cell_type": "markdown",
   "id": "00357b2b",
   "metadata": {},
   "source": [
    "These are the best parametres forrandom forest classifier"
   ]
  },
  {
   "cell_type": "code",
   "execution_count": null,
   "id": "0b80e2ee",
   "metadata": {},
   "outputs": [],
   "source": [
    "capacity = RandomForestRegressor(criterion='mse', max_depth=6, max_features='log2', n_estimators=200)\n",
    "capacity.fit(x_train, y_train)\n",
    "pred = capacity.predict(x_test)\n",
    "print(\"RMSE value:\",np.sqrt(metrics.mean_squared_error(y_test, predRFR)))\n",
    "print('R2_Score:',r2_score(y_test,pred)*100)"
   ]
  },
  {
   "cell_type": "markdown",
   "id": "0fc4d2be",
   "metadata": {},
   "source": [
    "## Saving the model "
   ]
  },
  {
   "cell_type": "code",
   "execution_count": null,
   "id": "a5887508",
   "metadata": {},
   "outputs": [],
   "source": [
    "import joblib\n",
    "joblib.dump(capacity,\"Global_Power_Plant_capacity_mw.pkl\")"
   ]
  },
  {
   "cell_type": "code",
   "execution_count": null,
   "id": "6e5b5f10",
   "metadata": {},
   "outputs": [],
   "source": [
    "capacity = joblib.load(\"Global_Power_Plant_capacity_mw.pkl\")"
   ]
  },
  {
   "cell_type": "code",
   "execution_count": null,
   "id": "9913175b",
   "metadata": {},
   "outputs": [],
   "source": [
    "import numpy as np\n",
    "a = np.array(y_test)\n",
    "predicted = np.array(capacity.predict(x_test))\n",
    "df_new = pd.DataFrame({\"Original\":a,\"Predicted\":predicted},index= range(len(a)))\n",
    "df_new"
   ]
  },
  {
   "cell_type": "markdown",
   "id": "5895138a",
   "metadata": {},
   "source": [
    "# Task - 2,  Prediction for primary_fuel"
   ]
  },
  {
   "cell_type": "code",
   "execution_count": null,
   "id": "ede7855f",
   "metadata": {},
   "outputs": [],
   "source": [
    "x_new = data_new.drop(\"primary_fuel\",axis=1)\n",
    "y_new = data_new['primary_fuel']"
   ]
  },
  {
   "cell_type": "code",
   "execution_count": null,
   "id": "a84b8c48",
   "metadata": {},
   "outputs": [],
   "source": [
    "x_new.shape"
   ]
  },
  {
   "cell_type": "code",
   "execution_count": null,
   "id": "1ff013cb",
   "metadata": {},
   "outputs": [],
   "source": [
    "y_new.shape"
   ]
  },
  {
   "cell_type": "markdown",
   "id": "2181c345",
   "metadata": {},
   "source": [
    "##  Checking for skewness"
   ]
  },
  {
   "cell_type": "code",
   "execution_count": null,
   "id": "406313f1",
   "metadata": {},
   "outputs": [],
   "source": [
    "x_new.skew()"
   ]
  },
  {
   "cell_type": "markdown",
   "id": "cd826ea5",
   "metadata": {},
   "source": [
    "Here we can see that all the column has skewness and need to removed"
   ]
  },
  {
   "cell_type": "markdown",
   "id": "80a23d13",
   "metadata": {},
   "source": [
    "## Removing skewness by using yeo-johnson method "
   ]
  },
  {
   "cell_type": "code",
   "execution_count": null,
   "id": "65f32bad",
   "metadata": {},
   "outputs": [],
   "source": [
    "# Making the skew less than or equal to 0.5 for better prediction using  yeo-johnson method\n",
    "skew = ['capacity_mw','longitude','generation_gwh_2014','generation_gwh_2015','generation_gwh_2016','generation_gwh_2017','generation_gwh_2018','power_plant_age']\n",
    "\n",
    "from sklearn.preprocessing import PowerTransformer\n",
    "scaler = PowerTransformer(method='yeo-johnson')\n",
    "'''\n",
    "parameters:\n",
    "method = 'box-cox' or 'yeo-johnson'\n",
    "'''"
   ]
  },
  {
   "cell_type": "code",
   "execution_count": null,
   "id": "fa34eadf",
   "metadata": {},
   "outputs": [],
   "source": [
    "x_new[skew] = scaler.fit_transform(x_new[skew].values)\n",
    "x_new[skew].head()"
   ]
  },
  {
   "cell_type": "code",
   "execution_count": null,
   "id": "3fae8344",
   "metadata": {},
   "outputs": [],
   "source": [
    "#Checking skewness after applying yeo-johnson method\n",
    "x_new.skew()"
   ]
  },
  {
   "cell_type": "markdown",
   "id": "39a16235",
   "metadata": {},
   "source": [
    "Now the skewness has been removed in all the numerical column"
   ]
  },
  {
   "cell_type": "code",
   "execution_count": null,
   "id": "ed23afa7",
   "metadata": {},
   "outputs": [],
   "source": [
    "# Visualizing the distribution after removing skewness\n",
    "plt.figure(figsize=(20,25), facecolor='white')\n",
    "plotnumber = 1\n",
    "\n",
    "for column in x_new[skew]:\n",
    "    if plotnumber<=9:\n",
    "        ax = plt.subplot(3,3,plotnumber)\n",
    "        sns.distplot(x_new[column],color='indigo',kde_kws={\"shade\": True},hist=False)\n",
    "        plt.xlabel(column,fontsize=20)\n",
    "    plotnumber+=1\n",
    "plt.show()"
   ]
  },
  {
   "cell_type": "markdown",
   "id": "6bb64493",
   "metadata": {},
   "source": [
    "Here we can notice that skewness has been removed but plot is still not normal"
   ]
  },
  {
   "cell_type": "markdown",
   "id": "72f270a4",
   "metadata": {},
   "source": [
    "### SCALING"
   ]
  },
  {
   "cell_type": "code",
   "execution_count": null,
   "id": "d09cf3c4",
   "metadata": {},
   "outputs": [],
   "source": [
    "from sklearn.preprocessing import StandardScaler\n",
    "scaler = StandardScaler()\n",
    "x_new = pd.DataFrame(scaler.fit_transform(x_new),columns = x_new.columns)\n",
    "x_new"
   ]
  },
  {
   "cell_type": "markdown",
   "id": "fe0ae799",
   "metadata": {},
   "source": [
    "### Check for multicolinearity"
   ]
  },
  {
   "cell_type": "code",
   "execution_count": null,
   "id": "8690bc84",
   "metadata": {},
   "outputs": [],
   "source": [
    "from statsmodels.stats.outliers_influence import variance_inflation_factor\n",
    "vif = pd.DataFrame()\n",
    "vif[\"VIF values\"] = [variance_inflation_factor(x_new.values,i)\n",
    "              for i in range(len(x_new.columns))]\n",
    "vif[\"Features\"] = x_new.columns\n",
    "vif"
   ]
  },
  {
   "cell_type": "markdown",
   "id": "83b0aaa0",
   "metadata": {},
   "source": [
    "Here we can see that VIF values for all the columns are less than 10, means these are free from multicolinearity"
   ]
  },
  {
   "cell_type": "code",
   "execution_count": null,
   "id": "7307d2e6",
   "metadata": {},
   "outputs": [],
   "source": [
    "#check for label distribution\n",
    "y_new.value_counts()"
   ]
  },
  {
   "cell_type": "markdown",
   "id": "f89c7b9f",
   "metadata": {},
   "source": [
    "Here the Label is not balanced, so we will use oversampling method to balance the data"
   ]
  },
  {
   "cell_type": "markdown",
   "id": "4e54803d",
   "metadata": {},
   "source": [
    "## Oversampling "
   ]
  },
  {
   "cell_type": "code",
   "execution_count": null,
   "id": "c959353f",
   "metadata": {},
   "outputs": [],
   "source": [
    "# oversampling the data\n",
    "from imblearn.over_sampling import SMOTE\n",
    "SM = SMOTE()\n",
    "x_new,y_new = SM.fit_resample(x_new,y_new)"
   ]
  },
  {
   "cell_type": "code",
   "execution_count": null,
   "id": "ea99e9dc",
   "metadata": {},
   "outputs": [],
   "source": [
    "y_new.value_counts()"
   ]
  },
  {
   "cell_type": "markdown",
   "id": "55e78a33",
   "metadata": {},
   "source": [
    "the label is balanced now"
   ]
  },
  {
   "cell_type": "code",
   "execution_count": null,
   "id": "d0a97154",
   "metadata": {},
   "outputs": [],
   "source": [
    "x_new.head()"
   ]
  },
  {
   "cell_type": "markdown",
   "id": "4a3fb5d3",
   "metadata": {},
   "source": [
    "## Modeling "
   ]
  },
  {
   "cell_type": "markdown",
   "id": "a88a3c4a",
   "metadata": {},
   "source": [
    "###  finding the best random state"
   ]
  },
  {
   "cell_type": "code",
   "execution_count": null,
   "id": "b4c06141",
   "metadata": {},
   "outputs": [],
   "source": [
    "from sklearn.ensemble import RandomForestRegressor\n",
    "maxAccu=0\n",
    "maxRS=0\n",
    "for i in range(1,200):\n",
    "    x_new_train,x_new_test,y_new_train,y_new_test = train_test_split(x_new,y_new,test_size=0.30,random_state=i)\n",
    "    mod = RandomForestRegressor()\n",
    "    mod.fit(x_new_train,y_new_train)\n",
    "    pred = mod.predict(x_new_test)\n",
    "    acc = r2_score(y_new_test,pred)\n",
    "    if acc>maxAccu:\n",
    "        maxAccu=acc\n",
    "        maxRS=i\n",
    "print(\"Maximum r2 score is \",maxAccu,\"at Random_state\",maxRS)"
   ]
  },
  {
   "cell_type": "code",
   "execution_count": null,
   "id": "5329bb99",
   "metadata": {},
   "outputs": [],
   "source": [
    "x_new_train,x_new_test,y_new_train,y_new_test = train_test_split(x_new,y_new,test_size=.30,random_state=183)"
   ]
  },
  {
   "cell_type": "code",
   "execution_count": null,
   "id": "d4c6b147",
   "metadata": {},
   "outputs": [],
   "source": [
    "from sklearn.tree import DecisionTreeClassifier\n",
    "from sklearn.ensemble import RandomForestClassifier,GradientBoostingClassifier,BaggingClassifier\n",
    "from sklearn.svm import SVC\n",
    "from sklearn.neighbors import KNeighborsClassifier as KNN\n",
    "from sklearn.metrics import classification_report,confusion_matrix,roc_curve,accuracy_score"
   ]
  },
  {
   "cell_type": "markdown",
   "id": "4af11092",
   "metadata": {},
   "source": [
    "## Decision Tree classifier "
   ]
  },
  {
   "cell_type": "code",
   "execution_count": null,
   "id": "2f80dae1",
   "metadata": {},
   "outputs": [],
   "source": [
    "# Checking Accuracy for DecisionTreeClassifier\n",
    "DTC = DecisionTreeClassifier()\n",
    "DTC.fit(x_new_train,y_new_train)\n",
    "predDTC = DTC.predict(x_new_test)\n",
    "print(accuracy_score(y_new_test,predDTC))\n",
    "print(confusion_matrix(y_new_test,predDTC))\n",
    "print(classification_report(y_new_test,predDTC))"
   ]
  },
  {
   "cell_type": "code",
   "execution_count": null,
   "id": "5ccf08e2",
   "metadata": {},
   "outputs": [],
   "source": [
    "# Lets plot confusion matrix for DTC\n",
    "cm = confusion_matrix(y_new_test,predDTC)\n",
    "x_axis_labels = [\"0\",\"1\",\"2\",\"3\",\"4\",\"5\",\"6\",\"7\"]\n",
    "y_axis_labels = [\"0\",\"1\",\"2\",\"3\",\"4\",\"5\",\"6\",\"7\"]\n",
    "f , ax = plt.subplots(figsize=(7,7))\n",
    "sns.heatmap(cm,annot=True,linewidths=.2,linecolor=\"black\",fmt=\".0f\",ax=ax,cmap=\"ocean_r\",xticklabels=x_axis_labels,yticklabels=y_axis_labels)\n",
    "plt.xlabel(\"Predicted Label\")\n",
    "plt.ylabel(\"True Label\")\n",
    "plt.title(\"Confusion matrix for DTC\")\n",
    "plt.show()"
   ]
  },
  {
   "cell_type": "markdown",
   "id": "ef213021",
   "metadata": {},
   "source": [
    "## Random Forest Classifier "
   ]
  },
  {
   "cell_type": "code",
   "execution_count": null,
   "id": "4792f871",
   "metadata": {},
   "outputs": [],
   "source": [
    "# Checking Accuracy for RandomForestClassifier\n",
    "RFC = RandomForestClassifier()\n",
    "RFC.fit(x_new_train,y_new_train)\n",
    "predRFC = RFC.predict(x_new_test)\n",
    "print(accuracy_score(y_new_test,predRFC))\n",
    "print(confusion_matrix(y_new_test,predRFC))\n",
    "print(classification_report(y_new_test,predRFC))"
   ]
  },
  {
   "cell_type": "markdown",
   "id": "f5eaee06",
   "metadata": {},
   "source": [
    "Accuracy for random forest is 92%"
   ]
  },
  {
   "cell_type": "code",
   "execution_count": null,
   "id": "fec9994f",
   "metadata": {},
   "outputs": [],
   "source": [
    "# Lets plot confusion matrix for RFC\n",
    "cm = confusion_matrix(y_new_test,predRFC)\n",
    "x_axis_labels = [\"0\",\"1\",\"2\",\"3\",\"4\",\"5\",\"6\",\"7\"]\n",
    "y_axis_labels = [\"0\",\"1\",\"2\",\"3\",\"4\",\"5\",\"6\",\"7\"]\n",
    "f , ax = plt.subplots(figsize=(7,7))\n",
    "sns.heatmap(cm,annot=True,linewidths=.2,linecolor=\"black\",fmt=\".0f\",ax=ax,cmap=\"ocean_r\",xticklabels=x_axis_labels,yticklabels=y_axis_labels)\n",
    "plt.xlabel(\"Predicted Label\")\n",
    "plt.ylabel(\"True Label\")\n",
    "plt.title(\"Confusion matrix for RFC\")\n",
    "plt.show()"
   ]
  },
  {
   "cell_type": "markdown",
   "id": "72d34ca1",
   "metadata": {},
   "source": [
    "##  Support vector machine classifier"
   ]
  },
  {
   "cell_type": "code",
   "execution_count": null,
   "id": "6289b16c",
   "metadata": {},
   "outputs": [],
   "source": [
    "# Checking Accuracy for SVC\n",
    "svc = SVC()\n",
    "svc.fit(x_new_train,y_new_train)\n",
    "predsvc = svc.predict(x_new_test)\n",
    "print(accuracy_score(y_new_test,predsvc))\n",
    "print(confusion_matrix(y_new_test,predsvc))\n",
    "print(classification_report(y_new_test,predsvc))"
   ]
  },
  {
   "cell_type": "code",
   "execution_count": null,
   "id": "13ffd55d",
   "metadata": {},
   "outputs": [],
   "source": [
    "# Lets plot confusion matrix for SVC\n",
    "cm = confusion_matrix(y_new_test,predsvc)\n",
    "x_axis_labels = [\"0\",\"1\",\"2\",\"3\",\"4\",\"5\",\"6\",\"7\"]\n",
    "y_axis_labels = [\"0\",\"1\",\"2\",\"3\",\"4\",\"5\",\"6\",\"7\"]\n",
    "f , ax = plt.subplots(figsize=(7,7))\n",
    "sns.heatmap(cm,annot=True,linewidths=.2,linecolor=\"black\",fmt=\".0f\",ax=ax,cmap=\"ocean_r\",xticklabels=x_axis_labels,yticklabels=y_axis_labels)\n",
    "plt.xlabel(\"Predicted Label\")\n",
    "plt.ylabel(\"True Label\")\n",
    "plt.title(\"Confusion matrix for SVC\")\n",
    "plt.show()"
   ]
  },
  {
   "cell_type": "markdown",
   "id": "1fe49a84",
   "metadata": {},
   "source": [
    "## K Neighbors classifier "
   ]
  },
  {
   "cell_type": "code",
   "execution_count": null,
   "id": "4581ac6b",
   "metadata": {},
   "outputs": [],
   "source": [
    "# Checking Accuracy for KNeighborsClassifier\n",
    "knn = KNN()\n",
    "knn.fit(x_new_train,y_new_train)\n",
    "predknn = knn.predict(x_new_test)\n",
    "print(accuracy_score(y_new_test,predknn))\n",
    "print(confusion_matrix(y_new_test,predknn))\n",
    "print(classification_report(y_new_test,predknn))"
   ]
  },
  {
   "cell_type": "code",
   "execution_count": null,
   "id": "98e07cd8",
   "metadata": {},
   "outputs": [],
   "source": [
    "# Lets plot confusion matrix for KNN\n",
    "cm = confusion_matrix(y_new_test,predknn)\n",
    "x_axis_labels = [\"0\",\"1\",\"2\",\"3\",\"4\",\"5\",\"6\",\"7\"]\n",
    "y_axis_labels = [\"0\",\"1\",\"2\",\"3\",\"4\",\"5\",\"6\",\"7\"]\n",
    "f , ax = plt.subplots(figsize=(7,7))\n",
    "sns.heatmap(cm,annot=True,linewidths=.2,linecolor=\"black\",fmt=\".0f\",ax=ax,cmap=\"ocean_r\",xticklabels=x_axis_labels,yticklabels=y_axis_labels)\n",
    "plt.xlabel(\"Predicted Label\")\n",
    "plt.ylabel(\"True Label\")\n",
    "plt.title(\"Confusion matrix for KNN\")\n",
    "plt.show()"
   ]
  },
  {
   "cell_type": "markdown",
   "id": "5ab0cae9",
   "metadata": {},
   "source": [
    "## Gradient Boosting Classifier "
   ]
  },
  {
   "cell_type": "code",
   "execution_count": null,
   "id": "55ae3f1e",
   "metadata": {},
   "outputs": [],
   "source": [
    "# Checking Accuracy for GradientBoostingClassifier\n",
    "GB = GradientBoostingClassifier()\n",
    "GB.fit(x_new_train,y_new_train)\n",
    "predGB = GB.predict(x_new_test)\n",
    "print(accuracy_score(y_new_test,predGB))\n",
    "print(confusion_matrix(y_new_test,predGB))\n",
    "print(classification_report(y_new_test,predGB))"
   ]
  },
  {
   "cell_type": "code",
   "execution_count": null,
   "id": "1ad3ed20",
   "metadata": {},
   "outputs": [],
   "source": [
    "# Lets plot confusion matrix for GradientBoostingClassifier\n",
    "cm = confusion_matrix(y_new_test,predGB)\n",
    "x_axis_labels = [\"0\",\"1\",\"2\",\"3\",\"4\",\"5\",\"6\",\"7\"]\n",
    "y_axis_labels = [\"0\",\"1\",\"2\",\"3\",\"4\",\"5\",\"6\",\"7\"]\n",
    "f , ax = plt.subplots(figsize=(7,7))\n",
    "sns.heatmap(cm,annot=True,linewidths=.2,linecolor=\"black\",fmt=\".0f\",ax=ax,cmap=\"ocean_r\",xticklabels=x_axis_labels,yticklabels=y_axis_labels)\n",
    "plt.xlabel(\"Predicted Label\")\n",
    "plt.ylabel(\"True Label\")\n",
    "plt.title(\"Confusion matrix for GradientBoostingClassifier\")\n",
    "plt.show()"
   ]
  },
  {
   "cell_type": "markdown",
   "id": "0318ff21",
   "metadata": {},
   "source": [
    "## Bagging Classifier "
   ]
  },
  {
   "cell_type": "code",
   "execution_count": null,
   "id": "f9d14d62",
   "metadata": {},
   "outputs": [],
   "source": [
    "# Checking Accuracy for BaggingClassifier\n",
    "BC = BaggingClassifier()\n",
    "BC.fit(x_new_train,y_new_train)\n",
    "predBC = BC.predict(x_new_test)\n",
    "print(accuracy_score(y_new_test,predBC))\n",
    "print(confusion_matrix(y_new_test,predBC))\n",
    "print(classification_report(y_new_test,predBC))"
   ]
  },
  {
   "cell_type": "code",
   "execution_count": null,
   "id": "b7bc9647",
   "metadata": {},
   "outputs": [],
   "source": [
    "# Lets plot confusion matrix for BaggingClassifier\n",
    "cm = confusion_matrix(y_new_test,predBC)\n",
    "x_axis_labels = [\"0\",\"1\",\"2\",\"3\",\"4\",\"5\",\"6\",\"7\"]\n",
    "y_axis_labels = [\"0\",\"1\",\"2\",\"3\",\"4\",\"5\",\"6\",\"7\"]\n",
    "f , ax = plt.subplots(figsize=(7,7))\n",
    "sns.heatmap(cm,annot=True,linewidths=.2,linecolor=\"black\",fmt=\".0f\",ax=ax,cmap=\"ocean_r\",xticklabels=x_axis_labels,yticklabels=y_axis_labels)\n",
    "plt.xlabel(\"Predicted Label\")\n",
    "plt.ylabel(\"True Label\")\n",
    "plt.title(\"Confusion matrix for BaggingClassifier\")\n",
    "plt.show()"
   ]
  },
  {
   "cell_type": "markdown",
   "id": "568cfd2a",
   "metadata": {},
   "source": [
    "## Check for cross validation score "
   ]
  },
  {
   "cell_type": "code",
   "execution_count": null,
   "id": "1bf3d867",
   "metadata": {},
   "outputs": [],
   "source": [
    "from sklearn.model_selection import cross_val_score"
   ]
  },
  {
   "cell_type": "code",
   "execution_count": null,
   "id": "839098ac",
   "metadata": {},
   "outputs": [],
   "source": [
    "# cv score for DecisionTreeClassifier\n",
    "print(cross_val_score(DTC,x_new,y_new,cv=5).mean())"
   ]
  },
  {
   "cell_type": "code",
   "execution_count": null,
   "id": "5b1549df",
   "metadata": {},
   "outputs": [],
   "source": [
    "# cv score for Random forest Classifier\n",
    "print(cross_val_score(RFC,x_new,y_new,cv=5).mean())"
   ]
  },
  {
   "cell_type": "code",
   "execution_count": null,
   "id": "355d2207",
   "metadata": {},
   "outputs": [],
   "source": [
    "# cv score for Support vector Classifier\n",
    "print(cross_val_score(svc,x_new,y_new,cv=5).mean())"
   ]
  },
  {
   "cell_type": "code",
   "execution_count": null,
   "id": "6e88e2d1",
   "metadata": {},
   "outputs": [],
   "source": [
    "# cv score for Knn Classifier\n",
    "print(cross_val_score(knn,x_new,y_new,cv=5).mean())"
   ]
  },
  {
   "cell_type": "code",
   "execution_count": null,
   "id": "3ab6850f",
   "metadata": {},
   "outputs": [],
   "source": [
    "# cv score for Gradient boosting Classifier\n",
    "print(cross_val_score(GB,x_new,y_new,cv=5).mean())"
   ]
  },
  {
   "cell_type": "code",
   "execution_count": null,
   "id": "d601f219",
   "metadata": {},
   "outputs": [],
   "source": [
    "# cv score for Bagging Classifier\n",
    "print(cross_val_score(BC,x_new,y_new,cv=5).mean())"
   ]
  },
  {
   "cell_type": "markdown",
   "id": "dbca3842",
   "metadata": {},
   "source": [
    "The difference between acurracy score and cross val sccore of gradient boosting classifier is less than others, so GRADIENT BOOSTING CLASSIFIER is best fitting model"
   ]
  },
  {
   "cell_type": "markdown",
   "id": "82badb91",
   "metadata": {},
   "source": [
    "## Hyper parametre tuning "
   ]
  },
  {
   "cell_type": "code",
   "execution_count": null,
   "id": "e27f9d08",
   "metadata": {},
   "outputs": [],
   "source": [
    "from sklearn.model_selection import GridSearchCV"
   ]
  },
  {
   "cell_type": "code",
   "execution_count": null,
   "id": "cc55d93d",
   "metadata": {},
   "outputs": [],
   "source": [
    "#Gradient Boosting Classifier \n",
    "parameters = {'criterion':['friedman_mse','mse', 'mae'],\n",
    "             'max_features':['auto', 'sqrt', 'log2'],\n",
    "             'n_estimators':[0,200],\n",
    "             'max_depth':[2,3,4,5,6,8]}"
   ]
  },
  {
   "cell_type": "code",
   "execution_count": null,
   "id": "4148c556",
   "metadata": {},
   "outputs": [],
   "source": [
    "GCV=GridSearchCV(GradientBoostingClassifier(),parameters,cv=5)"
   ]
  },
  {
   "cell_type": "code",
   "execution_count": null,
   "id": "d903cf1a",
   "metadata": {},
   "outputs": [],
   "source": [
    "GCV.fit(x_df_train,y_df_train)"
   ]
  },
  {
   "cell_type": "code",
   "execution_count": null,
   "id": "6fde28b3",
   "metadata": {},
   "outputs": [],
   "source": [
    "GCV.best_params_"
   ]
  },
  {
   "cell_type": "code",
   "execution_count": null,
   "id": "1bb4f0ba",
   "metadata": {},
   "outputs": [],
   "source": [
    "primary_fuel = GradientBoostingClassifier (criterion='friedman_mse', max_depth=8, max_features='sqrt', n_estimators=200)\n",
    "primary_fuel.fit(x_df_train, y_df_train)\n",
    "pred = primary_fuel.predict(x_df_test)\n",
    "acc=accuracy_score(y_df_test,pred)\n",
    "print(acc*100)"
   ]
  },
  {
   "cell_type": "markdown",
   "id": "277915c2",
   "metadata": {},
   "source": [
    "# Ploting roc and compare ROC for final model"
   ]
  },
  {
   "cell_type": "code",
   "execution_count": null,
   "id": "d2d0bca2",
   "metadata": {},
   "outputs": [],
   "source": [
    "from sklearn.preprocessing import label_binarize\n",
    "from sklearn.metrics import roc_curve, auc\n",
    "from sklearn.multiclass import OneVsRestClassifier\n",
    "\n",
    "\n",
    "classifier = OneVsRestClassifier(primary_fuel)\n",
    "y_score = classifier.fit(x_new_train, y_new_train).predict_proba(x_new_test)\n",
    "\n",
    "#Binarize the output\n",
    "y_df_test_bin  = label_binarize(y_new_test, classes=[0,1,2,3,4,5,6,7])\n",
    "n_classes = 8\n",
    "\n",
    "# Compute ROC curve and AUC for all the classes\n",
    "false_positive_rate = dict()\n",
    "true_positive_rate = dict()\n",
    "roc_auc = dict()\n",
    "for i in range(n_classes):\n",
    "    false_positive_rate[i], true_positive_rate[i], _ = roc_curve(y_new_test_bin[:, i], y_score[:, i])\n",
    "    roc_auc[i] = auc(false_positive_rate[i], true_positive_rate[i])\n",
    "    \n",
    "   \n",
    "for i in range(n_classes):\n",
    "    plt.plot(false_positive_rate[i], true_positive_rate[i], lw=2,\n",
    "             label='ROC curve of class {0} (area = {1:0.2f})'\n",
    "             ''.format(i, roc_auc[i]))\n",
    "\n",
    "plt.plot([0, 1], [0, 1], 'k--', lw=2)\n",
    "plt.xlim([-0.05, 1.0])\n",
    "plt.ylim([0.0, 1.05])\n",
    "plt.xlabel('False Positive Rate')\n",
    "plt.ylabel('True Positive Rate')\n",
    "plt.title('Receiver operating characteristic for multiclassification data')\n",
    "plt.legend(loc=\"lower right\")\n",
    "plt.show()"
   ]
  },
  {
   "cell_type": "markdown",
   "id": "f3d31a38",
   "metadata": {},
   "source": [
    "## Saving the model "
   ]
  },
  {
   "cell_type": "code",
   "execution_count": null,
   "id": "6eedd83e",
   "metadata": {},
   "outputs": [],
   "source": [
    "# Saving the model using .pkl\n",
    "import joblib\n",
    "joblib.dump(primary_fuel,\"Global_Power_Plant_Fuel_Type.pkl\")"
   ]
  },
  {
   "cell_type": "code",
   "execution_count": null,
   "id": "15670ce8",
   "metadata": {},
   "outputs": [],
   "source": []
  }
 ],
 "metadata": {
  "kernelspec": {
   "display_name": "Python 3 (ipykernel)",
   "language": "python",
   "name": "python3"
  },
  "language_info": {
   "codemirror_mode": {
    "name": "ipython",
    "version": 3
   },
   "file_extension": ".py",
   "mimetype": "text/x-python",
   "name": "python",
   "nbconvert_exporter": "python",
   "pygments_lexer": "ipython3",
   "version": "3.9.7"
  }
 },
 "nbformat": 4,
 "nbformat_minor": 5
}
